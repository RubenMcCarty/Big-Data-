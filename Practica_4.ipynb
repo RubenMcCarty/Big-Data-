{
  "nbformat": 4,
  "nbformat_minor": 0,
  "metadata": {
    "colab": {
      "provenance": [],
      "authorship_tag": "ABX9TyP0hNICW0d3dareWrKXt6ev",
      "include_colab_link": true
    },
    "kernelspec": {
      "name": "python3",
      "display_name": "Python 3"
    },
    "language_info": {
      "name": "python"
    }
  },
  "cells": [
    {
      "cell_type": "markdown",
      "metadata": {
        "id": "view-in-github",
        "colab_type": "text"
      },
      "source": [
        "<a href=\"https://colab.research.google.com/github/RubenMcCarty/Big-Data-/blob/main/Practica_4.ipynb\" target=\"_parent\"><img src=\"https://colab.research.google.com/assets/colab-badge.svg\" alt=\"Open In Colab\"/></a>"
      ]
    },
    {
      "cell_type": "markdown",
      "source": [
        "# Ejercicios"
      ],
      "metadata": {
        "id": "oMOe12yWlm8K"
      }
    },
    {
      "cell_type": "markdown",
      "source": [
        "Los datos adjuntos como recurso a esta lección contienen los importes de ventas en un día en un supermercado.\n",
        "\n",
        "\n",
        "\n",
        "1. Cree un RDD importes a partir de los datos adjuntos a esta lección como recurso. Emplee acumuladores para obtener el total de ventas realizadas y el importe total de las ventas.\n",
        "2. Si se conoce que a cada venta hay que restarle un importe fijo igual a 10 pesos por temas de impuestos.\n",
        " * a. ¿Cómo restaría este impuesto de cada venta utilizando una variable broadcast para acelerar el proceso?\n",
        " * b. Cree un RDD llamado ventas_sin_impuestos a partir de la propuesta del inciso a que contenga las ventas sin impuestos.\n",
        " * c. Destruya la variable broadcast creada luego de emplearla para crear el RDD del inciso b.\n",
        "3.  Persista el RDD ventas_sin_impuestos en los siguientes niveles de persistencia.\n",
        "* a. Memoria.\n",
        "* b. Disco solamente\n",
        "* c. Memoria y disco.\n",
        "\n",
        "Recursos de esta clase\n",
        "Recursos de esta clase\n",
        "data.zip"
      ],
      "metadata": {
        "id": "lN4kJcUUltXO"
      }
    },
    {
      "cell_type": "code",
      "source": [],
      "metadata": {
        "id": "Q5UHg_pMnUt_"
      },
      "execution_count": null,
      "outputs": []
    }
  ]
}