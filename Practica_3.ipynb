{
  "nbformat": 4,
  "nbformat_minor": 0,
  "metadata": {
    "colab": {
      "provenance": [],
      "authorship_tag": "ABX9TyNQkSbyCkOmNtjAMjeZshqJ",
      "include_colab_link": true
    },
    "kernelspec": {
      "name": "python3",
      "display_name": "Python 3"
    },
    "language_info": {
      "name": "python"
    }
  },
  "cells": [
    {
      "cell_type": "markdown",
      "metadata": {
        "id": "view-in-github",
        "colab_type": "text"
      },
      "source": [
        "<a href=\"https://colab.research.google.com/github/RubenMcCarty/Big-Data-/blob/main/Practica_3.ipynb\" target=\"_parent\"><img src=\"https://colab.research.google.com/assets/colab-badge.svg\" alt=\"Open In Colab\"/></a>"
      ]
    },
    {
      "cell_type": "markdown",
      "source": [
        "# Ejercicios"
      ],
      "metadata": {
        "id": "oMOe12yWlm8K"
      }
    },
    {
      "cell_type": "markdown",
      "source": [
        "\n",
        "1. Cree un RDD llamado importes a partir del archivo adjunto a esta lección como recurso.\n",
        "\n",
        "\n",
        "\n",
        "a. ¿Cuántos registros tiene el RDD importes?\n",
        "\n",
        "\n",
        "\n",
        "b. ¿Cuál es el valor mínimo y máximo del RDD importes?\n",
        "\n",
        "\n",
        "\n",
        "c. Cree un RDD top15 que contenga los 15 mayores valores del RDD importes. Tenga en cuenta que pueden repetirse los valores. Por último, escriba el RDD top15 como archivo de texto en la carpeta data/salida.\n",
        "\n",
        "\n",
        "\n",
        "2. Cree una función llamada factorial que calcule el factorial de un número dado como parámetro. Utilice RDDs para el cálculo.\n",
        "\n",
        "\n",
        "\n",
        "Recursos de esta clase\n",
        "data.zip"
      ],
      "metadata": {
        "id": "lN4kJcUUltXO"
      }
    },
    {
      "cell_type": "code",
      "source": [],
      "metadata": {
        "id": "Q5UHg_pMnUt_"
      },
      "execution_count": null,
      "outputs": []
    }
  ]
}