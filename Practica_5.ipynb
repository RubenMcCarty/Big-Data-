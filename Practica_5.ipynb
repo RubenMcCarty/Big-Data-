{
  "nbformat": 4,
  "nbformat_minor": 0,
  "metadata": {
    "colab": {
      "provenance": [],
      "authorship_tag": "ABX9TyOKvYauzSlb6JG9s0hmFUgC",
      "include_colab_link": true
    },
    "kernelspec": {
      "name": "python3",
      "display_name": "Python 3"
    },
    "language_info": {
      "name": "python"
    }
  },
  "cells": [
    {
      "cell_type": "markdown",
      "metadata": {
        "id": "view-in-github",
        "colab_type": "text"
      },
      "source": [
        "<a href=\"https://colab.research.google.com/github/RubenMcCarty/Big-Data-/blob/main/Practica_5.ipynb\" target=\"_parent\"><img src=\"https://colab.research.google.com/assets/colab-badge.svg\" alt=\"Open In Colab\"/></a>"
      ]
    },
    {
      "cell_type": "markdown",
      "source": [
        "# Ejercicios"
      ],
      "metadata": {
        "id": "oMOe12yWlm8K"
      }
    },
    {
      "cell_type": "markdown",
      "source": [
        "Los datos adjuntos a esta lección forman parte de la base de datos [NeurIPS 2020] Data Science for COVID-19 (DS4C) disponible en Kaggle. Estos datos hacen referencia a los casos de contagio de covid-19 en Corea del Sur.\n",
        "\n",
        "\n",
        "\n",
        "El archivo csv Case contiene los casos reportados y el archivo csv PatientInfo contiene la información de los pacientes.\n",
        "\n",
        "\n",
        "\n",
        "1. A partir del archivo csv Case, determine las tres ciudades con más casos confirmados de la enfermedad. La salida debe contener tres columnas: provincia, ciudad y casos confirmados. El resultado debe contener exactamente los tres nombre de ciudades con más casos confirmados ya que no se admiten otros valores.\n",
        "\n",
        "2. Cree un dataframe a partir del archivo csv PatientInfo. Asegúrese de que su dataframe no contenga pacientes duplicados.\n",
        "\n",
        "a. ¿Cuántos pacientes tienen informado por quién se contagiaron(columna infected_by)? Obtenga solo los pacientes que tengan informado por quién se contagiaron.\n",
        "b. A partir de la salida del inciso anterior obtenga solo los pacientes femeninos. La salida no debe contener las columnas released_date y deceased_date.\n",
        "c. Establezca el número de particiones del dataframe resultante del inciso anterior en dos. Escriba el dataframe resultante en un archivo parquet. La salida debe estar particionada por la provincia y el modo de escritura debe ser overwrite.\n",
        "\n",
        "Recursos de esta clase\n",
        "data.zip"
      ],
      "metadata": {
        "id": "lN4kJcUUltXO"
      }
    },
    {
      "cell_type": "code",
      "source": [],
      "metadata": {
        "id": "Q5UHg_pMnUt_"
      },
      "execution_count": null,
      "outputs": []
    }
  ]
}