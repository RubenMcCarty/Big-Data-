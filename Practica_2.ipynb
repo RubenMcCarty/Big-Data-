{
  "nbformat": 4,
  "nbformat_minor": 0,
  "metadata": {
    "colab": {
      "provenance": []
    },
    "kernelspec": {
      "name": "python3",
      "display_name": "Python 3"
    },
    "language_info": {
      "name": "python"
    }
  },
  "cells": [
    {
      "cell_type": "markdown",
      "source": [
        "# Ejercicios"
      ],
      "metadata": {
        "id": "X6yy-HZ1gY_o"
      }
    },
    {
      "cell_type": "markdown",
      "source": [
        "1. Cree un RDD llamado lenguajes que contenga los siguientes lenguajes de programación: Python, R, C, Scala, Rugby y SQL.\n",
        "\n",
        "a. Obtenga un nuevo RDD a partir del RDD lenguajes donde todos los lenguajes de programación estén en mayúsculas.\n",
        "\n",
        "\n",
        "\n",
        "b. Obtenga un nuevo RDD a partir del RDD lenguajes donde todos los lenguajes de programación estén en minúsculas.\n",
        "\n",
        "\n",
        "\n",
        "c. Cree un nuevo RDD que solo contenga aquellos lenguajes de programación que comiencen con la letra R.\n",
        "\n",
        "2. Cree un RDD llamado pares que contenga los números pares existentes en el intervalo [20;30].\n",
        "\n",
        "\n",
        "\n",
        "a. Cree el RDD llamado sqrt, este debe contener la raíz cuadrada de los elementos que componen el RDD pares.\n",
        "\n",
        "\n",
        "\n",
        "b. Obtenga una lista compuesta por los números pares en el intervalo [20;30] y sus respectivas raíces cuadradas. Un ejemplo del resultado deseado para el intervalo [50;60] sería la lista [50, 7.0710678118654755, 52, 7.211102550927978, 54, 7.3484692283495345, 56, 7.483314773547883, 58, 7.615773105863909, 60, 7.745966692414834].\n",
        "\n",
        "\n",
        "\n",
        "c.Eleve el número de particiones del RDD sqrt a 20.\n",
        "\n",
        "\n",
        "\n",
        "d. Si tuviera que disminuir el número de particiones luego de haberlo establecido en 20, ¿qué función utilizaría para hacer más eficiente su código?\n",
        "\n",
        "\n",
        "\n",
        "3. Cree un RDD del tipo clave valor a partir de los datos adjuntos como recurso a esta lección. Tenga en cuenta que deberá procesar el RDD leído para obtener el resultado solicitado. Supongamos que el RDD resultante de tipo clave valor refleja las transacciones realizadas por número de cuentas. Obtenga el monto total por cada cuenta.\n",
        "\n",
        "\n",
        "\n",
        "Tip: Cree su propia función para procesar el RDD leído.\n",
        "\n",
        "\n",
        "\n",
        "\n",
        "\n",
        "Recursos de esta clase\n",
        "data.zip"
      ],
      "metadata": {
        "id": "00OuUwhdft3J"
      }
    },
    {
      "cell_type": "code",
      "source": [],
      "metadata": {
        "id": "2rJudyv1gVtA"
      },
      "execution_count": null,
      "outputs": []
    }
  ]
}